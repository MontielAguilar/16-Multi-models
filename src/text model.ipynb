{
 "cells": [
  {
   "cell_type": "markdown",
   "metadata": {},
   "source": [
    "* Support Vector Machines (SVM): Es un algoritmo de clasificación que encuentra el hiperplano óptimo que mejor separa las clases.\n",
    "\n",
    "* K-Nearest Neighbors (KNN): Es un algoritmo simple de clasificación que clasifica un punto según las clases de sus vecinos más cercanos.\n",
    "\n",
    "* Regresión Logística: Es un algoritmo para problemas de clasificación binaria.\n",
    "\n",
    "* Redes Neuronales Artificiales (ANN): Modelos inspirados en el funcionamiento del cerebro que pueden ser utilizados para una variedad de problemas de aprendizaje automático.\n",
    "\n",
    "* Decision Trees (Árboles de Decisión): Modelos de clasificación basados en estructuras de árbol para tomar decisiones basadas en atributos.\n",
    "\n",
    "* Gradient Boosting Machines: Métodos basados en conjuntos como XGBoost y LightGBM que combinan múltiples modelos débiles para mejorar la precisión.\n",
    "\n",
    "* Regresión Lineal: Un algoritmo para problemas de regresión que encuentra la mejor línea de ajuste para los datos.\n",
    "\n",
    "* Clustering: Algoritmos como K-Means o DBSCAN para agrupar datos similares en clusters.\n",
    "\n",
    "* Naive Bayes: Un algoritmo de clasificación basado en el teorema de Bayes y la suposición ingenua de independencia entre características.\n",
    "\n",
    "* Support Vector Regression (SVR): Un algoritmo para problemas de regresión basado en SVM.\n",
    "\n",
    "* Análisis de Componentes Principales (PCA): Una técnica de reducción de dimensionalidad para visualizar o representar datos de alta dimensión.\n",
    "\n",
    "* Random Forest Regressor: Una variante de Random Forest para problemas de regresión.\n",
    "\n",
    "* Redes Neuronales Convolucionales (CNN): Un tipo especial de redes neuronales para tareas de visión por computadora.\n",
    "\n",
    "* Redes Neuronales Recurrentes (RNN): Un tipo de redes neuronales para trabajar con secuencias de datos, como texto o series de tiempo.\n",
    "\n",
    "* Algoritmos de Agrupamiento Jerárquico: Algoritmos que agrupan datos en forma jerárquica."
   ]
  }
 ],
 "metadata": {
  "language_info": {
   "name": "python"
  },
  "orig_nbformat": 4
 },
 "nbformat": 4,
 "nbformat_minor": 2
}
