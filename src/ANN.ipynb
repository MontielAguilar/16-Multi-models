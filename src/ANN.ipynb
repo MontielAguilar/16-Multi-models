{
 "cells": [
  {
   "cell_type": "code",
   "execution_count": 8,
   "metadata": {},
   "outputs": [
    {
     "name": "stdout",
     "output_type": "stream",
     "text": [
      "Epoch 1/10\n",
      "23/23 [==============================] - 0s 2ms/step - loss: 0.6363 - accuracy: 0.6404\n",
      "Epoch 2/10\n",
      "23/23 [==============================] - 0s 1ms/step - loss: 0.4538 - accuracy: 0.7303\n",
      "Epoch 3/10\n",
      "23/23 [==============================] - 0s 1ms/step - loss: 0.2717 - accuracy: 0.9466\n",
      "Epoch 4/10\n",
      "23/23 [==============================] - 0s 1ms/step - loss: 0.1306 - accuracy: 0.9860\n",
      "Epoch 5/10\n",
      "23/23 [==============================] - 0s 1ms/step - loss: 0.0624 - accuracy: 0.9944\n",
      "Epoch 6/10\n",
      "23/23 [==============================] - 0s 1ms/step - loss: 0.0315 - accuracy: 0.9972\n",
      "Epoch 7/10\n",
      "23/23 [==============================] - 0s 2ms/step - loss: 0.0187 - accuracy: 0.9986\n",
      "Epoch 8/10\n",
      "23/23 [==============================] - 0s 2ms/step - loss: 0.0125 - accuracy: 1.0000\n",
      "Epoch 9/10\n",
      "23/23 [==============================] - 0s 1ms/step - loss: 0.0088 - accuracy: 1.0000\n",
      "Epoch 10/10\n",
      "23/23 [==============================] - 0s 2ms/step - loss: 0.0066 - accuracy: 1.0000\n",
      "6/6 [==============================] - 0s 2ms/step\n",
      "Precisión del modelo ANN: 0.8491620111731844\n"
     ]
    }
   ],
   "source": [
    "import pandas as pd\n",
    "from sklearn.model_selection import train_test_split\n",
    "from sklearn.feature_extraction.text import CountVectorizer\n",
    "import tensorflow as tf\n",
    "from tensorflow.keras.models import Sequential\n",
    "from tensorflow.keras.layers import Dense\n",
    "from sklearn.metrics import accuracy_score\n",
    "\n",
    "# Leer el archivo CSV y crear el DataFrame\n",
    "df = pd.read_csv('https://raw.githubusercontent.com/4GeeksAcademy/naive-bayes-project-tutorial/main/playstore_reviews.csv')\n",
    "\n",
    "# Eliminar la columna \"package_name\"\n",
    "df = df.drop(\"package_name\", axis=1)\n",
    "\n",
    "# Convertir la columna \"review\" a minúsculas\n",
    "df[\"review\"] = df[\"review\"].str.strip().str.lower()\n",
    "\n",
    "# Dividir los datos en características (X) y variable objetivo (y)\n",
    "X = df.drop('polarity', axis=1)\n",
    "y = df['polarity']\n",
    "\n",
    "# Dividir el conjunto de datos en train y test\n",
    "X_train, X_test, y_train, y_test = train_test_split(X, y, test_size=0.2, random_state=42)\n",
    "\n",
    "# Asegurarse de que la columna 'review' sea de tipo string\n",
    "X_train[\"review\"] = X_train[\"review\"].astype(str)\n",
    "X_test[\"review\"] = X_test[\"review\"].astype(str)\n",
    "\n",
    "# Crear el vectorizador de texto con \"english\" como palabras a ignorar (stop words)\n",
    "vec_model = CountVectorizer(stop_words=\"english\")\n",
    "\n",
    "# Vectorizar las características de texto en X_train y X_test\n",
    "X_train_vectorized = vec_model.fit_transform(X_train[\"review\"]).toarray()\n",
    "X_test_vectorized = vec_model.transform(X_test[\"review\"]).toarray()\n",
    "\n",
    "# Crear el modelo ANN\n",
    "model = Sequential()\n",
    "model.add(Dense(64, input_dim=X_train_vectorized.shape[1], activation='relu'))\n",
    "model.add(Dense(32, activation='relu'))\n",
    "model.add(Dense(1, activation='sigmoid'))\n",
    "\n",
    "# Compilar el modelo\n",
    "model.compile(loss='binary_crossentropy', optimizer='adam', metrics=['accuracy'])\n",
    "\n",
    "# Entrenar el modelo\n",
    "model.fit(X_train_vectorized, y_train, epochs=10, batch_size=32)\n",
    "\n",
    "# Realizar predicciones en el conjunto de prueba\n",
    "y_pred_probs = model.predict(X_test_vectorized)\n",
    "y_pred = [1 if p >= 0.5 else 0 for p in y_pred_probs]\n",
    "\n",
    "# Calcular la precisión del modelo\n",
    "accuracy = accuracy_score(y_test, y_pred)\n",
    "print(\"Precisión del modelo ANN:\", accuracy)"
   ]
  }
 ],
 "metadata": {
  "kernelspec": {
   "display_name": "base",
   "language": "python",
   "name": "python3"
  },
  "language_info": {
   "codemirror_mode": {
    "name": "ipython",
    "version": 3
   },
   "file_extension": ".py",
   "mimetype": "text/x-python",
   "name": "python",
   "nbconvert_exporter": "python",
   "pygments_lexer": "ipython3",
   "version": "3.10.9"
  },
  "orig_nbformat": 4
 },
 "nbformat": 4,
 "nbformat_minor": 2
}
