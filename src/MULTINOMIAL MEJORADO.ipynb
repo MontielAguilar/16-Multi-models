{
 "cells": [
  {
   "cell_type": "code",
   "execution_count": 6,
   "metadata": {},
   "outputs": [
    {
     "name": "stdout",
     "output_type": "stream",
     "text": [
      "Precisión del modelo MultinomialNB con TF-IDF Vectorizer: 0.80\n"
     ]
    }
   ],
   "source": [
    "import pandas as pd\n",
    "from sklearn.model_selection import train_test_split\n",
    "from sklearn.feature_extraction.text import TfidfVectorizer\n",
    "from sklearn.naive_bayes import MultinomialNB\n",
    "from sklearn.pipeline import Pipeline\n",
    "from sklearn.metrics import accuracy_score\n",
    "\n",
    "# Leer el archivo CSV y crear el DataFrame\n",
    "url = 'https://raw.githubusercontent.com/4GeeksAcademy/naive-bayes-project-tutorial/main/playstore_reviews.csv'\n",
    "df = pd.read_csv(url)\n",
    "\n",
    "# Eliminar la columna \"package_name\"\n",
    "df.drop(\"package_name\", axis=1, inplace=True)\n",
    "\n",
    "# Convertir la columna \"review\" a minúsculas directamente\n",
    "df[\"review\"] = df[\"review\"].str.lower()\n",
    "\n",
    "# Dividir los datos en características (X) y variable objetivo (y)\n",
    "X = df[\"review\"]\n",
    "y = df['polarity']\n",
    "\n",
    "# Dividir el conjunto de datos en train y test\n",
    "X_train, X_test, y_train, y_test = train_test_split(X, y, test_size=0.2, random_state=42)\n",
    "\n",
    "# Crear el Pipeline que incluye el vectorizador de texto TF-IDF y el clasificador MultinomialNB\n",
    "pipeline = Pipeline([\n",
    "    ('vectorizer', TfidfVectorizer(stop_words=\"english\")),\n",
    "    ('classifier', MultinomialNB())\n",
    "])\n",
    "\n",
    "# Entrenar el modelo\n",
    "pipeline.fit(X_train, y_train)\n",
    "\n",
    "# Realizar predicciones en el conjunto de prueba\n",
    "y_pred = pipeline.predict(X_test)\n",
    "\n",
    "# Calcular la precisión del modelo\n",
    "accuracy = accuracy_score(y_test, y_pred)\n",
    "\n",
    "# Mostrar el resultado de la precisión con formato\n",
    "print(f\"Precisión del modelo MultinomialNB con TF-IDF Vectorizer: {accuracy:.2f}\")\n",
    "\n"
   ]
  }
 ],
 "metadata": {
  "kernelspec": {
   "display_name": "base",
   "language": "python",
   "name": "python3"
  },
  "language_info": {
   "codemirror_mode": {
    "name": "ipython",
    "version": 3
   },
   "file_extension": ".py",
   "mimetype": "text/x-python",
   "name": "python",
   "nbconvert_exporter": "python",
   "pygments_lexer": "ipython3",
   "version": "3.10.9"
  },
  "orig_nbformat": 4
 },
 "nbformat": 4,
 "nbformat_minor": 2
}
