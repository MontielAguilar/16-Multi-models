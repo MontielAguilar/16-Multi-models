{
 "cells": [
  {
   "cell_type": "code",
   "execution_count": 13,
   "metadata": {},
   "outputs": [
    {
     "name": "stdout",
     "output_type": "stream",
     "text": [
      "Precisión del modelo MultinomialNB: 0.8156424581005587\n"
     ]
    }
   ],
   "source": [
    "import pandas as pd\n",
    "from sklearn.model_selection import train_test_split\n",
    "from sklearn.feature_extraction.text import CountVectorizer\n",
    "from sklearn.naive_bayes import MultinomialNB\n",
    "from sklearn.metrics import accuracy_score\n",
    "\n",
    "# Leer el archivo CSV y crear el DataFrame\n",
    "df = pd.read_csv('https://raw.githubusercontent.com/4GeeksAcademy/naive-bayes-project-tutorial/main/playstore_reviews.csv')\n",
    "\n",
    "# Eliminar la columna \"package_name\"\n",
    "df = df.drop(\"package_name\", axis=1)\n",
    "\n",
    "# Convertir la columna \"review\" a minúsculas\n",
    "df[\"review\"] = df[\"review\"].str.strip().str.lower()\n",
    "\n",
    "# Dividir los datos en características (X) y variable objetivo (y)\n",
    "X = df.drop('polarity', axis=1)\n",
    "y = df['polarity']\n",
    "\n",
    "# Dividir el conjunto de datos en train y test\n",
    "X_train, X_test, y_train, y_test = train_test_split(X, y, test_size=0.2, random_state=42)\n",
    "\n",
    "# Asegurarse de que la columna 'review' sea de tipo string\n",
    "X_train[\"review\"] = X_train[\"review\"].astype(str)\n",
    "X_test[\"review\"] = X_test[\"review\"].astype(str)\n",
    "\n",
    "# Crear el vectorizador de texto con \"english\" como palabras a ignorar (stop words)\n",
    "vec_model = CountVectorizer(stop_words=\"english\")\n",
    "\n",
    "# Vectorizar las características de texto en X_train y X_test\n",
    "X_train_vectorized = vec_model.fit_transform(X_train[\"review\"]).toarray()\n",
    "X_test_vectorized = vec_model.transform(X_test[\"review\"]).toarray()\n",
    "\n",
    "# Crear el clasificador MultinomialNB\n",
    "mnb = MultinomialNB()\n",
    "\n",
    "# Entrenar el modelo MultinomialNB utilizando los datos de entrenamiento\n",
    "mnb.fit(X_train_vectorized, y_train)\n",
    "\n",
    "# Realizar predicciones en el conjunto de prueba\n",
    "y_pred = mnb.predict(X_test_vectorized)\n",
    "\n",
    "# Calcular la precisión del modelo\n",
    "accuracy = accuracy_score(y_test, y_pred)\n",
    "print(\"Precisión del modelo MultinomialNB:\", accuracy)"
   ]
  },
  {
   "cell_type": "code",
   "execution_count": 14,
   "metadata": {},
   "outputs": [
    {
     "name": "stdout",
     "output_type": "stream",
     "text": [
      "Precisión del modelo Random Forest: 0.8212290502793296\n"
     ]
    }
   ],
   "source": [
    "from sklearn.ensemble import RandomForestClassifier\n",
    "# Crear el clasificador Random Forest\n",
    "rf_classifier = RandomForestClassifier()\n",
    "\n",
    "# Entrenar el modelo Random Forest utilizando los datos de entrenamiento\n",
    "rf_classifier.fit(X_train_vectorized, y_train)\n",
    "\n",
    "# Realizar predicciones en el conjunto de prueba con Random Forest\n",
    "y_pred_rf = rf_classifier.predict(X_test_vectorized)\n",
    "\n",
    "# Calcular la precisión del modelo con Random Forest\n",
    "accuracy_rf = accuracy_score(y_test, y_pred_rf)\n",
    "print(\"Precisión del modelo Random Forest:\", accuracy_rf)\n",
    "\n"
   ]
  }
 ],
 "metadata": {
  "kernelspec": {
   "display_name": "base",
   "language": "python",
   "name": "python3"
  },
  "language_info": {
   "codemirror_mode": {
    "name": "ipython",
    "version": 3
   },
   "file_extension": ".py",
   "mimetype": "text/x-python",
   "name": "python",
   "nbconvert_exporter": "python",
   "pygments_lexer": "ipython3",
   "version": "3.10.9"
  },
  "orig_nbformat": 4
 },
 "nbformat": 4,
 "nbformat_minor": 2
}
